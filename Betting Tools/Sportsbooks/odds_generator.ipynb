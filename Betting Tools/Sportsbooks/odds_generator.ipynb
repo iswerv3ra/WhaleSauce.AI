{
 "cells": [
  {
   "cell_type": "code",
   "execution_count": 2,
   "metadata": {},
   "outputs": [
    {
     "name": "stdout",
     "output_type": "stream",
     "text": [
      "Odds data saved to bovada_fighters_odds.csv\n"
     ]
    }
   ],
   "source": [
    "import requests\n",
    "import pandas as pd\n",
    "from datetime import datetime\n",
    "\n",
    "# List of known bookmakers\n",
    "known_bookmakers = [\n",
    "    'FanDuel', 'BetUS', 'DraftKings', 'SuperBook', 'Caesars', 'LowVig.ag', \n",
    "    'BetOnline.ag', 'Bovada', 'TwinSpires', 'BetRivers', 'Unibet', 'MyBookie.ag', \n",
    "    'PointsBet (US)', 'WynnBET', 'BetMGM', 'Barstool Sportsbook'\n",
    "]\n",
    "\n",
    "# Fetch and prepare odds data\n",
    "def download_odds(sport, selected_bookmakers='All'):\n",
    "    # Replace with your API endpoint and key\n",
    "    api_key = '7fa2183601e4ace7e50d6e5966f7cb6b'\n",
    "    url = f\"https://api.the-odds-api.com/v4/sports/{sport}/odds/?apiKey={api_key}&regions=us&markets=h2h,spreads&oddsFormat=american\"\n",
    "    response = requests.get(url)\n",
    "\n",
    "    if response.status_code != 200:\n",
    "        raise Exception(f\"API request failed with status code {response.status_code}\")\n",
    "\n",
    "    result = response.json()\n",
    "    all_matches = []\n",
    "\n",
    "    for res in result:\n",
    "        for books in res['bookmakers']:\n",
    "            if selected_bookmakers != 'All' and books['title'] not in selected_bookmakers:\n",
    "                continue\n",
    "            match = {\n",
    "                'event_time': datetime.fromisoformat(res['commence_time'].replace('Z', '+00:00')).strftime('%Y-%m-%d %H:%M:%S'),\n",
    "                'bookmaker': books['title'],\n",
    "                'Fighter': books['markets'][0]['outcomes'][0]['name'],\n",
    "                'Opponent': books['markets'][0]['outcomes'][1]['name'],\n",
    "                'odds_f1': books['markets'][0]['outcomes'][0]['price'],\n",
    "                'odds_f2': books['markets'][0]['outcomes'][1]['price']\n",
    "            }\n",
    "            all_matches.append(match)\n",
    "\n",
    "    return pd.DataFrame(all_matches)\n",
    "\n",
    "# Function to save odds data to CSV\n",
    "def save_odds_to_csv(sport, selected_bookmakers='All', output_file='upcoming_fighters_odds.csv'):\n",
    "    df = download_odds(sport, selected_bookmakers)\n",
    "    df.to_csv(output_file, index=False)\n",
    "    print(f\"Odds data saved to {output_file}\")\n",
    "\n",
    "# Main script execution\n",
    "if __name__ == \"__main__\":\n",
    "    # Specify the sport and bookmakers as needed\n",
    "    sport = 'mma_mixed_martial_arts'\n",
    "    selected_bookmakers = 'All'  # or you can specify a list of bookmakers\n",
    "\n",
    "    save_odds_to_csv(sport, selected_bookmakers)\n"
   ]
  }
 ],
 "metadata": {
  "kernelspec": {
   "display_name": "Playground",
   "language": "python",
   "name": "python3"
  },
  "language_info": {
   "codemirror_mode": {
    "name": "ipython",
    "version": 3
   },
   "file_extension": ".py",
   "mimetype": "text/x-python",
   "name": "python",
   "nbconvert_exporter": "python",
   "pygments_lexer": "ipython3",
   "version": "3.11.8"
  }
 },
 "nbformat": 4,
 "nbformat_minor": 2
}
